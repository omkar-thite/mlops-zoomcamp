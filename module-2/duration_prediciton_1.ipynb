{
 "cells": [
  {
   "cell_type": "code",
   "execution_count": 8,
   "id": "c84bfa65-f780-4ffa-9417-d168bf6c88b4",
   "metadata": {},
   "outputs": [],
   "source": [
    "import math\n",
    "import pickle\n",
    "\n",
    "import pandas as pd\n",
    "import seaborn as sns\n",
    "import matplotlib.pyplot as plt\n",
    "\n",
    "from sklearn.feature_extraction import DictVectorizer\n",
    "from sklearn.linear_model import LinearRegression, Lasso, Ridge\n",
    "from sklearn.metrics import mean_squared_error "
   ]
  },
  {
   "cell_type": "code",
   "execution_count": 9,
   "id": "e4a53a63",
   "metadata": {},
   "outputs": [
    {
     "data": {
      "text/plain": [
       "<Experiment: artifact_location='/workspaces/mlops-zoomcamp/module-2/mlruns/1', creation_time=1746881851663, experiment_id='1', last_update_time=1746881851663, lifecycle_stage='active', name='nyc-taxi-experiment', tags={}>"
      ]
     },
     "execution_count": 9,
     "metadata": {},
     "output_type": "execute_result"
    }
   ],
   "source": [
    "import mlflow \n",
    "\n",
    "mlflow.set_tracking_uri('sqlite:///mlflow.db')\n",
    "mlflow.set_experiment('nyc-taxi-experiment')\n"
   ]
  },
  {
   "cell_type": "code",
   "execution_count": 10,
   "id": "fedf6097-427d-41f0-b7a9-3ec45613d1a1",
   "metadata": {},
   "outputs": [],
   "source": [
    "# Function that does everythin above: Can be used for validation dataset\n",
    "\n",
    "def process_dataset(path):\n",
    "    df = pd.read_parquet(path)\n",
    "    df = df[df.trip_type == 2]\n",
    "    \n",
    "    # Calculate duration\n",
    "    df.lpep_dropoff_datetime = pd.to_datetime(df.lpep_dropoff_datetime)\n",
    "    df.lpep_pickup_datetime = pd.to_datetime(df.lpep_pickup_datetime)\n",
    "    \n",
    "    df['duration'] = df.lpep_dropoff_datetime - df.lpep_pickup_datetime\n",
    "    \n",
    "    # Convert datetime to minutes\n",
    "    df.duration = df.duration.apply(lambda x: x.total_seconds()/60.0)\n",
    "\n",
    "    #categorical = ['VendorID', 'store_and_fwd_flag', 'RatecodeID', 'payment_type', 'trip_type']\n",
    "    categorical = ['PULocationID', 'DOLocationID']\n",
    "    numerical = ['trip_distance']\n",
    "\n",
    "    df = df[(df.duration >= 1) & (df.duration <= 60)]\n",
    "    df[categorical] = df[categorical].astype(str)\n",
    "\n",
    "    \n",
    "    return df"
   ]
  },
  {
   "cell_type": "code",
   "execution_count": 11,
   "id": "f425d19c-4ff1-4652-bea5-28285a935c27",
   "metadata": {},
   "outputs": [],
   "source": [
    "df_train = process_dataset('data/green_tripdata_2021-01.parquet')\n",
    "df_val = process_dataset('data/green_tripdata_2021-02.parquet')"
   ]
  },
  {
   "cell_type": "code",
   "execution_count": 12,
   "id": "f8c29758-4dc6-4d32-a413-52904d9881be",
   "metadata": {},
   "outputs": [],
   "source": [
    "df_train['PO_DO'] = df_train['PULocationID'] + '_' + df_train['DOLocationID']\n",
    "df_val['PO_DO'] = df_val['PULocationID'] + '_' + df_val['DOLocationID']"
   ]
  },
  {
   "cell_type": "markdown",
   "id": "16d19dec-b326-4cdc-9c39-110fcf6667e1",
   "metadata": {},
   "source": [
    "### Train model"
   ]
  },
  {
   "cell_type": "markdown",
   "id": "adad4b04-d43c-4901-a9c5-17af03e920f0",
   "metadata": {},
   "source": [
    "Training Pipeline"
   ]
  },
  {
   "cell_type": "code",
   "execution_count": 13,
   "id": "baf18c26-0eec-481e-ad63-13a11fd433d4",
   "metadata": {},
   "outputs": [
    {
     "name": "stdout",
     "output_type": "stream",
     "text": [
      "Train RMSE: 3.4110397358269813\n",
      "Val RMSE: 8.353710401254386\n"
     ]
    },
    {
     "data": {
      "text/plain": [
       "<matplotlib.legend.Legend at 0x7c2da9ad09b0>"
      ]
     },
     "execution_count": 13,
     "metadata": {},
     "output_type": "execute_result"
    },
    {
     "data": {
      "image/png": "[encoded data removed]",
      "text/plain": [
       "<Figure size 500x500 with 1 Axes>"
      ]
     },
     "metadata": {},
     "output_type": "display_data"
    },
    {
     "data": {
      "image/png": "[encoded data removed]",
      "text/plain": [
       "<Figure size 500x500 with 1 Axes>"
      ]
     },
     "metadata": {},
     "output_type": "display_data"
    }
   ],
   "source": [
    "#categorical = ['VendorID', 'store_and_fwd_flag', 'RatecodeID', 'payment_type', 'trip_type']\n",
    "categorical = ['PO_DO'] #['PULocationID', 'DOLocationID']\n",
    "numerical = ['trip_distance']\n",
    "\n",
    "dv = DictVectorizer()  # Turns a dictionary into vector\n",
    "\n",
    "train_dicts= df_train[categorical + numerical].to_dict(orient='records')\n",
    "X_train = dv.fit_transform(train_dicts)\n",
    "\n",
    "val_dicts = df_val[categorical + numerical].to_dict(orient='records')\n",
    "X_val = dv.transform(val_dicts)\n",
    "\n",
    "target = 'duration'\n",
    "y_train = df_train[target].values\n",
    "y_val = df_val[target].values\n",
    "\n",
    "linear_model = LinearRegression()\n",
    "linear_model.fit(X_train, y_train)\n",
    "\n",
    "y_pred = linear_model.predict(X_train)\n",
    "print(f'Train RMSE: {math.sqrt(mean_squared_error(y_train, y_pred))}')\n",
    "\n",
    "y_pred = linear_model.predict(X_val)\n",
    "print(f'Val RMSE: {math.sqrt(mean_squared_error(y_val, y_pred))}')\n",
    "\n",
    "\n",
    "# Visualize predictions\n",
    "sns.displot(y_pred, label='predictions')\n",
    "sns.displot(y_train, label='training')\n",
    "plt.legend()"
   ]
  },
  {
   "cell_type": "markdown",
   "id": "8066d35a-c782-4b2a-8bba-21972d932dcd",
   "metadata": {},
   "source": [
    " Model is wrong on average by 4.8 minutes, on validation its nealy 8 minutes."
   ]
  },
  {
   "cell_type": "markdown",
   "id": "f1af007a-e754-4a44-89bc-0dfbc1affc49",
   "metadata": {},
   "source": [
    "Try Lasso"
   ]
  },
  {
   "cell_type": "code",
   "execution_count": 14,
   "id": "76ab6838-dc2c-4a65-8df5-a92f68fe9201",
   "metadata": {},
   "outputs": [
    {
     "data": {
      "text/plain": [
       "3.4113647507698737"
      ]
     },
     "execution_count": 14,
     "metadata": {},
     "output_type": "execute_result"
    }
   ],
   "source": [
    "# Use Lasso regression: Linear regression with regularization\n",
    "\n",
    "model = Lasso(alpha=0.0001)\n",
    "model.fit(X_train, y_train)\n",
    "\n",
    "y_pred = model.predict(X_train)\n",
    "\n",
    "math.sqrt(mean_squared_error(y_train, y_pred))"
   ]
  },
  {
   "cell_type": "markdown",
   "id": "e9a1f55a-7de0-4702-88c0-9d8a705224dd",
   "metadata": {},
   "source": [
    "Worse than Linear Regression"
   ]
  },
  {
   "cell_type": "code",
   "execution_count": 15,
   "id": "1773b48c-5f63-44b6-9a17-9650c7d3eb7e",
   "metadata": {},
   "outputs": [],
   "source": [
    "#Define new run\n",
    "with mlflow.start_run():\n",
    "\n",
    "    # Log all information here\n",
    "\n",
    "    # Name of developer\n",
    "    mlflow.set_tag(\"developer\", \"omkar\")\n",
    "\n",
    "    # Log parameters including hyperps as well as any other relavant thing that affects model performance.\n",
    "    mlflow.log_param(\"train_data_path\", \"module-2/data/green_tripdata_2021-01.parquet\")\n",
    "    mlflow.log_param(\"val_data_path\", \"module-2/data/green_tripdata_2021-02.parquet\")\n",
    "\n",
    "    # Log parameter alpha\n",
    "    alpha = 0.01\n",
    "    mlflow.log_param(\"alpha\", alpha)\n",
    "    # Use Lasso regression: Linear regression with regularization\n",
    "\n",
    "    model = Ridge(alpha=alpha)\n",
    "    model.fit(X_train, y_train)\n",
    "\n",
    "    y_pred = model.predict(X_train)\n",
    "\n",
    "    rmse = math.sqrt(mean_squared_error(y_train, y_pred))\n",
    "\n",
    "    # Log (track) RMSE\n",
    "    mlflow.log_metric(\"RMSE\", rmse)"
   ]
  },
  {
   "cell_type": "code",
   "execution_count": 16,
   "id": "9960ceba-05bb-473a-8620-d2003efd0b0f",
   "metadata": {},
   "outputs": [],
   "source": [
    "with open('models/lin_reg.bin', 'wb') as f_out:\n",
    "    pickle.dump((dv, linear_model ), f_out)"
   ]
  },
  {
   "cell_type": "markdown",
   "id": "6cc3f251",
   "metadata": {},
   "source": [
    "### Train xgboost model with mlflow"
   ]
  },
  {
   "cell_type": "code",
   "execution_count": 17,
   "id": "077b5725",
   "metadata": {},
   "outputs": [],
   "source": [
    "import xgboost as xgb\n",
    "\n",
    "from hyperopt import fmin, tpe, hp, STATUS_OK, Trials\n",
    "from hyperopt.pyll import scope # to define range"
   ]
  },
  {
   "cell_type": "code",
   "execution_count": 18,
   "id": "2e12a722",
   "metadata": {},
   "outputs": [],
   "source": [
    "train = xgb.DMatrix(X_train, label=y_train)\n",
    "val = xgb.DMatrix(X_val, label=y_val)"
   ]
  },
  {
   "cell_type": "code",
   "execution_count": 35,
   "id": "b822c6e2",
   "metadata": {},
   "outputs": [
    {
     "data": {
      "text/plain": [
       "(640, 612)"
      ]
     },
     "execution_count": 35,
     "metadata": {},
     "output_type": "execute_result"
    }
   ],
   "source": [
    "train.num_row(), val.num_row()"
   ]
  },
  {
   "cell_type": "code",
   "execution_count": 36,
   "id": "9ea8693a",
   "metadata": {},
   "outputs": [],
   "source": [
    "def objective(params):\n",
    "    '''\n",
    "    Parameters:\n",
    "    params (dict): Hyper parameters for xgboost for current run \n",
    "    '''\n",
    "    with mlflow.start_run():\n",
    "        mlflow.set_tag('model', 'xgboost')\n",
    "        mlflow.log_params(params)\n",
    "\n",
    "        booster = xgb.train(\n",
    "            params=params,\n",
    "            dtrain=train,\n",
    "            num_boost_round=1000,\n",
    "            evals=[(val, \"val\")],\n",
    "            early_stopping_rounds=50\n",
    "\n",
    "        )\n",
    "        y_pred = booster.predict(val)\n",
    "        rmse = math.sqrt(mean_squared_error(y_val, y_pred))\n",
    "        mlflow.log_metric('rmse', rmse)\n",
    "\n",
    "    return {'rmse': rmse, 'status':STATUS_OK}\n",
    "\n"
   ]
  },
  {
   "cell_type": "code",
   "execution_count": 37,
   "id": "8027a0c0",
   "metadata": {},
   "outputs": [],
   "source": [
    "search_space = {\n",
    "    'max_depth': scope.int(hp.quniform('max_depth', 4, 100, 1)),\n",
    "    'learning_rate': hp.loguniform('learning_rate', -3, 0),  # [exp(-3), exp(0)] = [~0.05, 1]\n",
    "    'reg_alpha': hp.loguniform('reg_alpha', -5, -1),\n",
    "    'reg_lambda': hp.loguniform('reg_lambda', -6, -1),\n",
    "    'min_child_weight': hp.loguniform('min_child_weight', -1, 3),\n",
    "    'objective': 'reg:squared_error',\n",
    "    'seed': 42\n",
    "}"
   ]
  },
  {
   "cell_type": "code",
   "execution_count": 38,
   "id": "4d1d394e",
   "metadata": {},
   "outputs": [
    {
     "name": "stdout",
     "output_type": "stream",
     "text": [
      "  0%|          | 0/50 [00:00<?, ?trial/s, best loss=?]"
     ]
    },
    {
     "name": "stderr",
     "output_type": "stream",
     "text": [
      "job exception: [15:13:05] /workspace/src/objective/objective.cc:28: Unknown objective function: `reg:squared_error`\n",
      "Objective candidate: rank:ndcg\n",
      "Objective candidate: rank:pairwise\n",
      "Objective candidate: rank:map\n",
      "Objective candidate: survival:aft\n",
      "Objective candidate: binary:hinge\n",
      "Objective candidate: multi:softmax\n",
      "Objective candidate: multi:softprob\n",
      "Objective candidate: reg:quantileerror\n",
      "Objective candidate: reg:squarederror\n",
      "Objective candidate: reg:squaredlogerror\n",
      "Objective candidate: reg:logistic\n",
      "Objective candidate: binary:logistic\n",
      "Objective candidate: binary:logitraw\n",
      "Objective candidate: reg:gamma\n",
      "Objective candidate: reg:linear\n",
      "Objective candidate: reg:pseudohubererror\n",
      "Objective candidate: count:poisson\n",
      "Objective candidate: survival:cox\n",
      "Objective candidate: reg:tweedie\n",
      "Objective candidate: reg:absoluteerror\n",
      "\n",
      "Stack trace:\n",
      "  [bt] (0) /workspaces/mlops-zoomcamp/venv/lib/python3.12/site-packages/xgboost/lib/libxgboost.so(+0x2a6acc) [0x7c2daeca6acc]\n",
      "  [bt] (1) /workspaces/mlops-zoomcamp/venv/lib/python3.12/site-packages/xgboost/lib/libxgboost.so(+0x8530ae) [0x7c2daf2530ae]\n",
      "  [bt] (2) /workspaces/mlops-zoomcamp/venv/lib/python3.12/site-packages/xgboost/lib/libxgboost.so(+0x67c561) [0x7c2daf07c561]\n",
      "  [bt] (3) /workspaces/mlops-zoomcamp/venv/lib/python3.12/site-packages/xgboost/lib/libxgboost.so(+0x6875cb) [0x7c2daf0875cb]\n",
      "  [bt] (4) /workspaces/mlops-zoomcamp/venv/lib/python3.12/site-packages/xgboost/lib/libxgboost.so(XGBoosterBoostedRounds+0x34) [0x7c2daebb41a4]\n",
      "  [bt] (5) /lib/x86_64-linux-gnu/libffi.so.7(+0x6ff5) [0x7c2e0a4a4ff5]\n",
      "  [bt] (6) /lib/x86_64-linux-gnu/libffi.so.7(+0x640a) [0x7c2e0a4a440a]\n",
      "  [bt] (7) /home/codespace/.python/current/lib/python3.12/lib-dynload/_ctypes.cpython-312-x86_64-linux-gnu.so(+0x13a46) [0x7c2e0a4c7a46]\n",
      "  [bt] (8) /home/codespace/.python/current/lib/python3.12/lib-dynload/_ctypes.cpython-312-x86_64-linux-gnu.so(+0xd0ca) [0x7c2e0a4c10ca]\n",
      "\n",
      "\n",
      "\n"
     ]
    },
    {
     "name": "stdout",
     "output_type": "stream",
     "text": [
      "  0%|          | 0/50 [00:00<?, ?trial/s, best loss=?]\n"
     ]
    },
    {
     "ename": "XGBoostError",
     "evalue": "[15:13:05] /workspace/src/objective/objective.cc:28: Unknown objective function: `reg:squared_error`\nObjective candidate: rank:ndcg\nObjective candidate: rank:pairwise\nObjective candidate: rank:map\nObjective candidate: survival:aft\nObjective candidate: binary:hinge\nObjective candidate: multi:softmax\nObjective candidate: multi:softprob\nObjective candidate: reg:quantileerror\nObjective candidate: reg:squarederror\nObjective candidate: reg:squaredlogerror\nObjective candidate: reg:logistic\nObjective candidate: binary:logistic\nObjective candidate: binary:logitraw\nObjective candidate: reg:gamma\nObjective candidate: reg:linear\nObjective candidate: reg:pseudohubererror\nObjective candidate: count:poisson\nObjective candidate: survival:cox\nObjective candidate: reg:tweedie\nObjective candidate: reg:absoluteerror\n\nStack trace:\n  [bt] (0) /workspaces/mlops-zoomcamp/venv/lib/python3.12/site-packages/xgboost/lib/libxgboost.so(+0x2a6acc) [0x7c2daeca6acc]\n  [bt] (1) /workspaces/mlops-zoomcamp/venv/lib/python3.12/site-packages/xgboost/lib/libxgboost.so(+0x8530ae) [0x7c2daf2530ae]\n  [bt] (2) /workspaces/mlops-zoomcamp/venv/lib/python3.12/site-packages/xgboost/lib/libxgboost.so(+0x67c561) [0x7c2daf07c561]\n  [bt] (3) /workspaces/mlops-zoomcamp/venv/lib/python3.12/site-packages/xgboost/lib/libxgboost.so(+0x6875cb) [0x7c2daf0875cb]\n  [bt] (4) /workspaces/mlops-zoomcamp/venv/lib/python3.12/site-packages/xgboost/lib/libxgboost.so(XGBoosterBoostedRounds+0x34) [0x7c2daebb41a4]\n  [bt] (5) /lib/x86_64-linux-gnu/libffi.so.7(+0x6ff5) [0x7c2e0a4a4ff5]\n  [bt] (6) /lib/x86_64-linux-gnu/libffi.so.7(+0x640a) [0x7c2e0a4a440a]\n  [bt] (7) /home/codespace/.python/current/lib/python3.12/lib-dynload/_ctypes.cpython-312-x86_64-linux-gnu.so(+0x13a46) [0x7c2e0a4c7a46]\n  [bt] (8) /home/codespace/.python/current/lib/python3.12/lib-dynload/_ctypes.cpython-312-x86_64-linux-gnu.so(+0xd0ca) [0x7c2e0a4c10ca]\n\n",
     "output_type": "error",
     "traceback": [
      "\u001b[31m---------------------------------------------------------------------------\u001b[39m",
      "\u001b[31mXGBoostError\u001b[39m                              Traceback (most recent call last)",
      "\u001b[36mCell\u001b[39m\u001b[36m \u001b[39m\u001b[32mIn[38]\u001b[39m\u001b[32m, line 1\u001b[39m\n\u001b[32m----> \u001b[39m\u001b[32m1\u001b[39m best_result = \u001b[43mfmin\u001b[49m\u001b[43m(\u001b[49m\n\u001b[32m      2\u001b[39m \u001b[43m    \u001b[49m\u001b[43mfn\u001b[49m\u001b[43m=\u001b[49m\u001b[43mobjective\u001b[49m\u001b[43m,\u001b[49m\n\u001b[32m      3\u001b[39m \u001b[43m    \u001b[49m\u001b[43mspace\u001b[49m\u001b[43m=\u001b[49m\u001b[43msearch_space\u001b[49m\u001b[43m,\u001b[49m\n\u001b[32m      4\u001b[39m \u001b[43m    \u001b[49m\u001b[43malgo\u001b[49m\u001b[43m=\u001b[49m\u001b[43mtpe\u001b[49m\u001b[43m.\u001b[49m\u001b[43msuggest\u001b[49m\u001b[43m,\u001b[49m\n\u001b[32m      5\u001b[39m \u001b[43m    \u001b[49m\u001b[43mmax_evals\u001b[49m\u001b[43m=\u001b[49m\u001b[32;43m50\u001b[39;49m\u001b[43m,\u001b[49m\n\u001b[32m      6\u001b[39m \u001b[43m    \u001b[49m\u001b[43mtrials\u001b[49m\u001b[43m=\u001b[49m\u001b[43mTrials\u001b[49m\u001b[43m(\u001b[49m\u001b[43m)\u001b[49m\n\u001b[32m      7\u001b[39m \u001b[43m)\u001b[49m\n",
      "\u001b[36mFile \u001b[39m\u001b[32m/workspaces/mlops-zoomcamp/venv/lib/python3.12/site-packages/hyperopt/fmin.py:540\u001b[39m, in \u001b[36mfmin\u001b[39m\u001b[34m(fn, space, algo, max_evals, timeout, loss_threshold, trials, rstate, allow_trials_fmin, pass_expr_memo_ctrl, catch_eval_exceptions, verbose, return_argmin, points_to_evaluate, max_queue_len, show_progressbar, early_stop_fn, trials_save_file)\u001b[39m\n\u001b[32m    537\u001b[39m     fn = __objective_fmin_wrapper(fn)\n\u001b[32m    539\u001b[39m \u001b[38;5;28;01mif\u001b[39;00m allow_trials_fmin \u001b[38;5;129;01mand\u001b[39;00m \u001b[38;5;28mhasattr\u001b[39m(trials, \u001b[33m\"\u001b[39m\u001b[33mfmin\u001b[39m\u001b[33m\"\u001b[39m):\n\u001b[32m--> \u001b[39m\u001b[32m540\u001b[39m     \u001b[38;5;28;01mreturn\u001b[39;00m \u001b[43mtrials\u001b[49m\u001b[43m.\u001b[49m\u001b[43mfmin\u001b[49m\u001b[43m(\u001b[49m\n\u001b[32m    541\u001b[39m \u001b[43m        \u001b[49m\u001b[43mfn\u001b[49m\u001b[43m,\u001b[49m\n\u001b[32m    542\u001b[39m \u001b[43m        \u001b[49m\u001b[43mspace\u001b[49m\u001b[43m,\u001b[49m\n\u001b[32m    543\u001b[39m \u001b[43m        \u001b[49m\u001b[43malgo\u001b[49m\u001b[43m=\u001b[49m\u001b[43malgo\u001b[49m\u001b[43m,\u001b[49m\n\u001b[32m    544\u001b[39m \u001b[43m        \u001b[49m\u001b[43mmax_evals\u001b[49m\u001b[43m=\u001b[49m\u001b[43mmax_evals\u001b[49m\u001b[43m,\u001b[49m\n\u001b[32m    545\u001b[39m \u001b[43m        \u001b[49m\u001b[43mtimeout\u001b[49m\u001b[43m=\u001b[49m\u001b[43mtimeout\u001b[49m\u001b[43m,\u001b[49m\n\u001b[32m    546\u001b[39m \u001b[43m        \u001b[49m\u001b[43mloss_threshold\u001b[49m\u001b[43m=\u001b[49m\u001b[43mloss_threshold\u001b[49m\u001b[43m,\u001b[49m\n\u001b[32m    547\u001b[39m \u001b[43m        \u001b[49m\u001b[43mmax_queue_len\u001b[49m\u001b[43m=\u001b[49m\u001b[43mmax_queue_len\u001b[49m\u001b[43m,\u001b[49m\n\u001b[32m    548\u001b[39m \u001b[43m        \u001b[49m\u001b[43mrstate\u001b[49m\u001b[43m=\u001b[49m\u001b[43mrstate\u001b[49m\u001b[43m,\u001b[49m\n\u001b[32m    549\u001b[39m \u001b[43m        \u001b[49m\u001b[43mpass_expr_memo_ctrl\u001b[49m\u001b[43m=\u001b[49m\u001b[43mpass_expr_memo_ctrl\u001b[49m\u001b[43m,\u001b[49m\n\u001b[32m    550\u001b[39m \u001b[43m        \u001b[49m\u001b[43mverbose\u001b[49m\u001b[43m=\u001b[49m\u001b[43mverbose\u001b[49m\u001b[43m,\u001b[49m\n\u001b[32m    551\u001b[39m \u001b[43m        \u001b[49m\u001b[43mcatch_eval_exceptions\u001b[49m\u001b[43m=\u001b[49m\u001b[43mcatch_eval_exceptions\u001b[49m\u001b[43m,\u001b[49m\n\u001b[32m    552\u001b[39m \u001b[43m        \u001b[49m\u001b[43mreturn_argmin\u001b[49m\u001b[43m=\u001b[49m\u001b[43mreturn_argmin\u001b[49m\u001b[43m,\u001b[49m\n\u001b[32m    553\u001b[39m \u001b[43m        \u001b[49m\u001b[43mshow_progressbar\u001b[49m\u001b[43m=\u001b[49m\u001b[43mshow_progressbar\u001b[49m\u001b[43m,\u001b[49m\n\u001b[32m    554\u001b[39m \u001b[43m        \u001b[49m\u001b[43mearly_stop_fn\u001b[49m\u001b[43m=\u001b[49m\u001b[43mearly_stop_fn\u001b[49m\u001b[43m,\u001b[49m\n\u001b[32m    555\u001b[39m \u001b[43m        \u001b[49m\u001b[43mtrials_save_file\u001b[49m\u001b[43m=\u001b[49m\u001b[43mtrials_save_file\u001b[49m\u001b[43m,\u001b[49m\n\u001b[32m    556\u001b[39m \u001b[43m    \u001b[49m\u001b[43m)\u001b[49m\n\u001b[32m    558\u001b[39m \u001b[38;5;28;01mif\u001b[39;00m trials \u001b[38;5;129;01mis\u001b[39;00m \u001b[38;5;28;01mNone\u001b[39;00m:\n\u001b[32m    559\u001b[39m     \u001b[38;5;28;01mif\u001b[39;00m os.path.exists(trials_save_file):\n",
      "\u001b[36mFile \u001b[39m\u001b[32m/workspaces/mlops-zoomcamp/venv/lib/python3.12/site-packages/hyperopt/base.py:671\u001b[39m, in \u001b[36mTrials.fmin\u001b[39m\u001b[34m(self, fn, space, algo, max_evals, timeout, loss_threshold, max_queue_len, rstate, verbose, pass_expr_memo_ctrl, catch_eval_exceptions, return_argmin, show_progressbar, early_stop_fn, trials_save_file)\u001b[39m\n\u001b[32m    666\u001b[39m \u001b[38;5;66;03m# -- Stop-gap implementation!\u001b[39;00m\n\u001b[32m    667\u001b[39m \u001b[38;5;66;03m#    fmin should have been a Trials method in the first place\u001b[39;00m\n\u001b[32m    668\u001b[39m \u001b[38;5;66;03m#    but for now it's still sitting in another file.\u001b[39;00m\n\u001b[32m    669\u001b[39m \u001b[38;5;28;01mfrom\u001b[39;00m\u001b[38;5;250m \u001b[39m\u001b[34;01m.\u001b[39;00m\u001b[34;01mfmin\u001b[39;00m\u001b[38;5;250m \u001b[39m\u001b[38;5;28;01mimport\u001b[39;00m fmin\n\u001b[32m--> \u001b[39m\u001b[32m671\u001b[39m \u001b[38;5;28;01mreturn\u001b[39;00m \u001b[43mfmin\u001b[49m\u001b[43m(\u001b[49m\n\u001b[32m    672\u001b[39m \u001b[43m    \u001b[49m\u001b[43mfn\u001b[49m\u001b[43m,\u001b[49m\n\u001b[32m    673\u001b[39m \u001b[43m    \u001b[49m\u001b[43mspace\u001b[49m\u001b[43m,\u001b[49m\n\u001b[32m    674\u001b[39m \u001b[43m    \u001b[49m\u001b[43malgo\u001b[49m\u001b[43m=\u001b[49m\u001b[43malgo\u001b[49m\u001b[43m,\u001b[49m\n\u001b[32m    675\u001b[39m \u001b[43m    \u001b[49m\u001b[43mmax_evals\u001b[49m\u001b[43m=\u001b[49m\u001b[43mmax_evals\u001b[49m\u001b[43m,\u001b[49m\n\u001b[32m    676\u001b[39m \u001b[43m    \u001b[49m\u001b[43mtimeout\u001b[49m\u001b[43m=\u001b[49m\u001b[43mtimeout\u001b[49m\u001b[43m,\u001b[49m\n\u001b[32m    677\u001b[39m \u001b[43m    \u001b[49m\u001b[43mloss_threshold\u001b[49m\u001b[43m=\u001b[49m\u001b[43mloss_threshold\u001b[49m\u001b[43m,\u001b[49m\n\u001b[32m    678\u001b[39m \u001b[43m    \u001b[49m\u001b[43mtrials\u001b[49m\u001b[43m=\u001b[49m\u001b[38;5;28;43mself\u001b[39;49m\u001b[43m,\u001b[49m\n\u001b[32m    679\u001b[39m \u001b[43m    \u001b[49m\u001b[43mrstate\u001b[49m\u001b[43m=\u001b[49m\u001b[43mrstate\u001b[49m\u001b[43m,\u001b[49m\n\u001b[32m    680\u001b[39m \u001b[43m    \u001b[49m\u001b[43mverbose\u001b[49m\u001b[43m=\u001b[49m\u001b[43mverbose\u001b[49m\u001b[43m,\u001b[49m\n\u001b[32m    681\u001b[39m \u001b[43m    \u001b[49m\u001b[43mmax_queue_len\u001b[49m\u001b[43m=\u001b[49m\u001b[43mmax_queue_len\u001b[49m\u001b[43m,\u001b[49m\n\u001b[32m    682\u001b[39m \u001b[43m    \u001b[49m\u001b[43mallow_trials_fmin\u001b[49m\u001b[43m=\u001b[49m\u001b[38;5;28;43;01mFalse\u001b[39;49;00m\u001b[43m,\u001b[49m\u001b[43m  \u001b[49m\u001b[38;5;66;43;03m# -- prevent recursion\u001b[39;49;00m\n\u001b[32m    683\u001b[39m \u001b[43m    \u001b[49m\u001b[43mpass_expr_memo_ctrl\u001b[49m\u001b[43m=\u001b[49m\u001b[43mpass_expr_memo_ctrl\u001b[49m\u001b[43m,\u001b[49m\n\u001b[32m    684\u001b[39m \u001b[43m    \u001b[49m\u001b[43mcatch_eval_exceptions\u001b[49m\u001b[43m=\u001b[49m\u001b[43mcatch_eval_exceptions\u001b[49m\u001b[43m,\u001b[49m\n\u001b[32m    685\u001b[39m \u001b[43m    \u001b[49m\u001b[43mreturn_argmin\u001b[49m\u001b[43m=\u001b[49m\u001b[43mreturn_argmin\u001b[49m\u001b[43m,\u001b[49m\n\u001b[32m    686\u001b[39m \u001b[43m    \u001b[49m\u001b[43mshow_progressbar\u001b[49m\u001b[43m=\u001b[49m\u001b[43mshow_progressbar\u001b[49m\u001b[43m,\u001b[49m\n\u001b[32m    687\u001b[39m \u001b[43m    \u001b[49m\u001b[43mearly_stop_fn\u001b[49m\u001b[43m=\u001b[49m\u001b[43mearly_stop_fn\u001b[49m\u001b[43m,\u001b[49m\n\u001b[32m    688\u001b[39m \u001b[43m    \u001b[49m\u001b[43mtrials_save_file\u001b[49m\u001b[43m=\u001b[49m\u001b[43mtrials_save_file\u001b[49m\u001b[43m,\u001b[49m\n\u001b[32m    689\u001b[39m \u001b[43m\u001b[49m\u001b[43m)\u001b[49m\n",
      "\u001b[36mFile \u001b[39m\u001b[32m/workspaces/mlops-zoomcamp/venv/lib/python3.12/site-packages/hyperopt/fmin.py:586\u001b[39m, in \u001b[36mfmin\u001b[39m\u001b[34m(fn, space, algo, max_evals, timeout, loss_threshold, trials, rstate, allow_trials_fmin, pass_expr_memo_ctrl, catch_eval_exceptions, verbose, return_argmin, points_to_evaluate, max_queue_len, show_progressbar, early_stop_fn, trials_save_file)\u001b[39m\n\u001b[32m    583\u001b[39m rval.catch_eval_exceptions = catch_eval_exceptions\n\u001b[32m    585\u001b[39m \u001b[38;5;66;03m# next line is where the fmin is actually executed\u001b[39;00m\n\u001b[32m--> \u001b[39m\u001b[32m586\u001b[39m \u001b[43mrval\u001b[49m\u001b[43m.\u001b[49m\u001b[43mexhaust\u001b[49m\u001b[43m(\u001b[49m\u001b[43m)\u001b[49m\n\u001b[32m    588\u001b[39m \u001b[38;5;28;01mif\u001b[39;00m return_argmin:\n\u001b[32m    589\u001b[39m     \u001b[38;5;28;01mif\u001b[39;00m \u001b[38;5;28mlen\u001b[39m(trials.trials) == \u001b[32m0\u001b[39m:\n",
      "\u001b[36mFile \u001b[39m\u001b[32m/workspaces/mlops-zoomcamp/venv/lib/python3.12/site-packages/hyperopt/fmin.py:364\u001b[39m, in \u001b[36mFMinIter.exhaust\u001b[39m\u001b[34m(self)\u001b[39m\n\u001b[32m    362\u001b[39m \u001b[38;5;28;01mdef\u001b[39;00m\u001b[38;5;250m \u001b[39m\u001b[34mexhaust\u001b[39m(\u001b[38;5;28mself\u001b[39m):\n\u001b[32m    363\u001b[39m     n_done = \u001b[38;5;28mlen\u001b[39m(\u001b[38;5;28mself\u001b[39m.trials)\n\u001b[32m--> \u001b[39m\u001b[32m364\u001b[39m     \u001b[38;5;28;43mself\u001b[39;49m\u001b[43m.\u001b[49m\u001b[43mrun\u001b[49m\u001b[43m(\u001b[49m\u001b[38;5;28;43mself\u001b[39;49m\u001b[43m.\u001b[49m\u001b[43mmax_evals\u001b[49m\u001b[43m \u001b[49m\u001b[43m-\u001b[49m\u001b[43m \u001b[49m\u001b[43mn_done\u001b[49m\u001b[43m,\u001b[49m\u001b[43m \u001b[49m\u001b[43mblock_until_done\u001b[49m\u001b[43m=\u001b[49m\u001b[38;5;28;43mself\u001b[39;49m\u001b[43m.\u001b[49m\u001b[43masynchronous\u001b[49m\u001b[43m)\u001b[49m\n\u001b[32m    365\u001b[39m     \u001b[38;5;28mself\u001b[39m.trials.refresh()\n\u001b[32m    366\u001b[39m     \u001b[38;5;28;01mreturn\u001b[39;00m \u001b[38;5;28mself\u001b[39m\n",
      "\u001b[36mFile \u001b[39m\u001b[32m/workspaces/mlops-zoomcamp/venv/lib/python3.12/site-packages/hyperopt/fmin.py:300\u001b[39m, in \u001b[36mFMinIter.run\u001b[39m\u001b[34m(self, N, block_until_done)\u001b[39m\n\u001b[32m    297\u001b[39m     time.sleep(\u001b[38;5;28mself\u001b[39m.poll_interval_secs)\n\u001b[32m    298\u001b[39m \u001b[38;5;28;01melse\u001b[39;00m:\n\u001b[32m    299\u001b[39m     \u001b[38;5;66;03m# -- loop over trials and do the jobs directly\u001b[39;00m\n\u001b[32m--> \u001b[39m\u001b[32m300\u001b[39m     \u001b[38;5;28;43mself\u001b[39;49m\u001b[43m.\u001b[49m\u001b[43mserial_evaluate\u001b[49m\u001b[43m(\u001b[49m\u001b[43m)\u001b[49m\n\u001b[32m    302\u001b[39m \u001b[38;5;28mself\u001b[39m.trials.refresh()\n\u001b[32m    303\u001b[39m \u001b[38;5;28;01mif\u001b[39;00m \u001b[38;5;28mself\u001b[39m.trials_save_file != \u001b[33m\"\u001b[39m\u001b[33m\"\u001b[39m:\n",
      "\u001b[36mFile \u001b[39m\u001b[32m/workspaces/mlops-zoomcamp/venv/lib/python3.12/site-packages/hyperopt/fmin.py:178\u001b[39m, in \u001b[36mFMinIter.serial_evaluate\u001b[39m\u001b[34m(self, N)\u001b[39m\n\u001b[32m    176\u001b[39m ctrl = base.Ctrl(\u001b[38;5;28mself\u001b[39m.trials, current_trial=trial)\n\u001b[32m    177\u001b[39m \u001b[38;5;28;01mtry\u001b[39;00m:\n\u001b[32m--> \u001b[39m\u001b[32m178\u001b[39m     result = \u001b[38;5;28;43mself\u001b[39;49m\u001b[43m.\u001b[49m\u001b[43mdomain\u001b[49m\u001b[43m.\u001b[49m\u001b[43mevaluate\u001b[49m\u001b[43m(\u001b[49m\u001b[43mspec\u001b[49m\u001b[43m,\u001b[49m\u001b[43m \u001b[49m\u001b[43mctrl\u001b[49m\u001b[43m)\u001b[49m\n\u001b[32m    179\u001b[39m \u001b[38;5;28;01mexcept\u001b[39;00m \u001b[38;5;167;01mException\u001b[39;00m \u001b[38;5;28;01mas\u001b[39;00m e:\n\u001b[32m    180\u001b[39m     logger.error(\u001b[33m\"\u001b[39m\u001b[33mjob exception: \u001b[39m\u001b[38;5;132;01m%s\u001b[39;00m\u001b[33m\"\u001b[39m % \u001b[38;5;28mstr\u001b[39m(e))\n",
      "\u001b[36mFile \u001b[39m\u001b[32m/workspaces/mlops-zoomcamp/venv/lib/python3.12/site-packages/hyperopt/base.py:892\u001b[39m, in \u001b[36mDomain.evaluate\u001b[39m\u001b[34m(self, config, ctrl, attach_attachments)\u001b[39m\n\u001b[32m    883\u001b[39m \u001b[38;5;28;01melse\u001b[39;00m:\n\u001b[32m    884\u001b[39m     \u001b[38;5;66;03m# -- the \"work\" of evaluating `config` can be written\u001b[39;00m\n\u001b[32m    885\u001b[39m     \u001b[38;5;66;03m#    either into the pyll part (self.expr)\u001b[39;00m\n\u001b[32m    886\u001b[39m     \u001b[38;5;66;03m#    or the normal Python part (self.fn)\u001b[39;00m\n\u001b[32m    887\u001b[39m     pyll_rval = pyll.rec_eval(\n\u001b[32m    888\u001b[39m         \u001b[38;5;28mself\u001b[39m.expr,\n\u001b[32m    889\u001b[39m         memo=memo,\n\u001b[32m    890\u001b[39m         print_node_on_error=\u001b[38;5;28mself\u001b[39m.rec_eval_print_node_on_error,\n\u001b[32m    891\u001b[39m     )\n\u001b[32m--> \u001b[39m\u001b[32m892\u001b[39m     rval = \u001b[38;5;28;43mself\u001b[39;49m\u001b[43m.\u001b[49m\u001b[43mfn\u001b[49m\u001b[43m(\u001b[49m\u001b[43mpyll_rval\u001b[49m\u001b[43m)\u001b[49m\n\u001b[32m    894\u001b[39m \u001b[38;5;28;01mif\u001b[39;00m \u001b[38;5;28misinstance\u001b[39m(rval, (\u001b[38;5;28mfloat\u001b[39m, \u001b[38;5;28mint\u001b[39m, np.number)):\n\u001b[32m    895\u001b[39m     dict_rval = {\u001b[33m\"\u001b[39m\u001b[33mloss\u001b[39m\u001b[33m\"\u001b[39m: \u001b[38;5;28mfloat\u001b[39m(rval), \u001b[33m\"\u001b[39m\u001b[33mstatus\u001b[39m\u001b[33m\"\u001b[39m: STATUS_OK}\n",
      "\u001b[36mCell\u001b[39m\u001b[36m \u001b[39m\u001b[32mIn[36]\u001b[39m\u001b[32m, line 10\u001b[39m, in \u001b[36mobjective\u001b[39m\u001b[34m(params)\u001b[39m\n\u001b[32m      7\u001b[39m mlflow.set_tag(\u001b[33m'\u001b[39m\u001b[33mmodel\u001b[39m\u001b[33m'\u001b[39m, \u001b[33m'\u001b[39m\u001b[33mxgboost\u001b[39m\u001b[33m'\u001b[39m)\n\u001b[32m      8\u001b[39m mlflow.log_params(params)\n\u001b[32m---> \u001b[39m\u001b[32m10\u001b[39m booster = \u001b[43mxgb\u001b[49m\u001b[43m.\u001b[49m\u001b[43mtrain\u001b[49m\u001b[43m(\u001b[49m\n\u001b[32m     11\u001b[39m \u001b[43m    \u001b[49m\u001b[43mparams\u001b[49m\u001b[43m=\u001b[49m\u001b[43mparams\u001b[49m\u001b[43m,\u001b[49m\n\u001b[32m     12\u001b[39m \u001b[43m    \u001b[49m\u001b[43mdtrain\u001b[49m\u001b[43m=\u001b[49m\u001b[43mtrain\u001b[49m\u001b[43m,\u001b[49m\n\u001b[32m     13\u001b[39m \u001b[43m    \u001b[49m\u001b[43mnum_boost_round\u001b[49m\u001b[43m=\u001b[49m\u001b[32;43m1000\u001b[39;49m\u001b[43m,\u001b[49m\n\u001b[32m     14\u001b[39m \u001b[43m    \u001b[49m\u001b[43mevals\u001b[49m\u001b[43m=\u001b[49m\u001b[43m[\u001b[49m\u001b[43m(\u001b[49m\u001b[43mval\u001b[49m\u001b[43m,\u001b[49m\u001b[43m \u001b[49m\u001b[33;43m\"\u001b[39;49m\u001b[33;43mval\u001b[39;49m\u001b[33;43m\"\u001b[39;49m\u001b[43m)\u001b[49m\u001b[43m]\u001b[49m\u001b[43m,\u001b[49m\n\u001b[32m     15\u001b[39m \u001b[43m    \u001b[49m\u001b[43mearly_stopping_rounds\u001b[49m\u001b[43m=\u001b[49m\u001b[32;43m50\u001b[39;49m\n\u001b[32m     16\u001b[39m \n\u001b[32m     17\u001b[39m \u001b[43m\u001b[49m\u001b[43m)\u001b[49m\n\u001b[32m     18\u001b[39m y_pred = booster.predict(val)\n\u001b[32m     19\u001b[39m rmse = math.sqrt(mean_squared_error(y_val, y_pred))\n",
      "\u001b[36mFile \u001b[39m\u001b[32m/workspaces/mlops-zoomcamp/venv/lib/python3.12/site-packages/xgboost/core.py:729\u001b[39m, in \u001b[36mrequire_keyword_args.<locals>.throw_if.<locals>.inner_f\u001b[39m\u001b[34m(*args, **kwargs)\u001b[39m\n\u001b[32m    727\u001b[39m \u001b[38;5;28;01mfor\u001b[39;00m k, arg \u001b[38;5;129;01min\u001b[39;00m \u001b[38;5;28mzip\u001b[39m(sig.parameters, args):\n\u001b[32m    728\u001b[39m     kwargs[k] = arg\n\u001b[32m--> \u001b[39m\u001b[32m729\u001b[39m \u001b[38;5;28;01mreturn\u001b[39;00m \u001b[43mfunc\u001b[49m\u001b[43m(\u001b[49m\u001b[43m*\u001b[49m\u001b[43m*\u001b[49m\u001b[43mkwargs\u001b[49m\u001b[43m)\u001b[49m\n",
      "\u001b[36mFile \u001b[39m\u001b[32m/workspaces/mlops-zoomcamp/venv/lib/python3.12/site-packages/xgboost/training.py:178\u001b[39m, in \u001b[36mtrain\u001b[39m\u001b[34m(params, dtrain, num_boost_round, evals, obj, maximize, early_stopping_rounds, evals_result, verbose_eval, xgb_model, callbacks, custom_metric)\u001b[39m\n\u001b[32m    173\u001b[39m     callbacks.append(EarlyStopping(rounds=early_stopping_rounds, maximize=maximize))\n\u001b[32m    174\u001b[39m cb_container = CallbackContainer(\n\u001b[32m    175\u001b[39m     callbacks, metric=custom_metric, output_margin=\u001b[38;5;28mcallable\u001b[39m(obj)\n\u001b[32m    176\u001b[39m )\n\u001b[32m--> \u001b[39m\u001b[32m178\u001b[39m bst = \u001b[43mcb_container\u001b[49m\u001b[43m.\u001b[49m\u001b[43mbefore_training\u001b[49m\u001b[43m(\u001b[49m\u001b[43mbst\u001b[49m\u001b[43m)\u001b[49m\n\u001b[32m    180\u001b[39m \u001b[38;5;28;01mfor\u001b[39;00m i \u001b[38;5;129;01min\u001b[39;00m \u001b[38;5;28mrange\u001b[39m(start_iteration, num_boost_round):\n\u001b[32m    181\u001b[39m     \u001b[38;5;28;01mif\u001b[39;00m cb_container.before_iteration(bst, i, dtrain, evals):\n",
      "\u001b[36mFile \u001b[39m\u001b[32m/workspaces/mlops-zoomcamp/venv/lib/python3.12/site-packages/xgboost/callback.py:185\u001b[39m, in \u001b[36mCallbackContainer.before_training\u001b[39m\u001b[34m(self, model)\u001b[39m\n\u001b[32m    183\u001b[39m \u001b[38;5;250m\u001b[39m\u001b[33;03m\"\"\"Function called before training.\"\"\"\u001b[39;00m\n\u001b[32m    184\u001b[39m \u001b[38;5;28;01mfor\u001b[39;00m c \u001b[38;5;129;01min\u001b[39;00m \u001b[38;5;28mself\u001b[39m.callbacks:\n\u001b[32m--> \u001b[39m\u001b[32m185\u001b[39m     model = \u001b[43mc\u001b[49m\u001b[43m.\u001b[49m\u001b[43mbefore_training\u001b[49m\u001b[43m(\u001b[49m\u001b[43mmodel\u001b[49m\u001b[43m=\u001b[49m\u001b[43mmodel\u001b[49m\u001b[43m)\u001b[49m\n\u001b[32m    186\u001b[39m     msg = \u001b[33m\"\u001b[39m\u001b[33mbefore_training should return the model\u001b[39m\u001b[33m\"\u001b[39m\n\u001b[32m    187\u001b[39m     \u001b[38;5;28;01mif\u001b[39;00m \u001b[38;5;28mself\u001b[39m.is_cv:\n",
      "\u001b[36mFile \u001b[39m\u001b[32m/workspaces/mlops-zoomcamp/venv/lib/python3.12/site-packages/xgboost/callback.py:386\u001b[39m, in \u001b[36mEarlyStopping.before_training\u001b[39m\u001b[34m(self, model)\u001b[39m\n\u001b[32m    385\u001b[39m \u001b[38;5;28;01mdef\u001b[39;00m\u001b[38;5;250m \u001b[39m\u001b[34mbefore_training\u001b[39m(\u001b[38;5;28mself\u001b[39m, model: _Model) -> _Model:\n\u001b[32m--> \u001b[39m\u001b[32m386\u001b[39m     \u001b[38;5;28mself\u001b[39m.starting_round = \u001b[43mmodel\u001b[49m\u001b[43m.\u001b[49m\u001b[43mnum_boosted_rounds\u001b[49m\u001b[43m(\u001b[49m\u001b[43m)\u001b[49m\n\u001b[32m    387\u001b[39m     \u001b[38;5;28;01mif\u001b[39;00m \u001b[38;5;129;01mnot\u001b[39;00m \u001b[38;5;28misinstance\u001b[39m(model, Booster) \u001b[38;5;129;01mand\u001b[39;00m \u001b[38;5;28mself\u001b[39m.save_best:\n\u001b[32m    388\u001b[39m         \u001b[38;5;28;01mraise\u001b[39;00m \u001b[38;5;167;01mValueError\u001b[39;00m(\n\u001b[32m    389\u001b[39m             \u001b[33m\"\u001b[39m\u001b[33m`save_best` is not applicable to the `cv` function as it doesn\u001b[39m\u001b[33m'\u001b[39m\u001b[33mt return\u001b[39m\u001b[33m\"\u001b[39m\n\u001b[32m    390\u001b[39m             \u001b[33m\"\u001b[39m\u001b[33m a model.\u001b[39m\u001b[33m\"\u001b[39m\n\u001b[32m    391\u001b[39m         )\n",
      "\u001b[36mFile \u001b[39m\u001b[32m/workspaces/mlops-zoomcamp/venv/lib/python3.12/site-packages/xgboost/core.py:2913\u001b[39m, in \u001b[36mBooster.num_boosted_rounds\u001b[39m\u001b[34m(self)\u001b[39m\n\u001b[32m   2911\u001b[39m rounds = ctypes.c_int()\n\u001b[32m   2912\u001b[39m \u001b[38;5;28;01massert\u001b[39;00m \u001b[38;5;28mself\u001b[39m.handle \u001b[38;5;129;01mis\u001b[39;00m \u001b[38;5;129;01mnot\u001b[39;00m \u001b[38;5;28;01mNone\u001b[39;00m\n\u001b[32m-> \u001b[39m\u001b[32m2913\u001b[39m \u001b[43m_check_call\u001b[49m\u001b[43m(\u001b[49m\u001b[43m_LIB\u001b[49m\u001b[43m.\u001b[49m\u001b[43mXGBoosterBoostedRounds\u001b[49m\u001b[43m(\u001b[49m\u001b[38;5;28;43mself\u001b[39;49m\u001b[43m.\u001b[49m\u001b[43mhandle\u001b[49m\u001b[43m,\u001b[49m\u001b[43m \u001b[49m\u001b[43mctypes\u001b[49m\u001b[43m.\u001b[49m\u001b[43mbyref\u001b[49m\u001b[43m(\u001b[49m\u001b[43mrounds\u001b[49m\u001b[43m)\u001b[49m\u001b[43m)\u001b[49m\u001b[43m)\u001b[49m\n\u001b[32m   2914\u001b[39m \u001b[38;5;28;01mreturn\u001b[39;00m rounds.value\n",
      "\u001b[36mFile \u001b[39m\u001b[32m/workspaces/mlops-zoomcamp/venv/lib/python3.12/site-packages/xgboost/core.py:310\u001b[39m, in \u001b[36m_check_call\u001b[39m\u001b[34m(ret)\u001b[39m\n\u001b[32m    299\u001b[39m \u001b[38;5;250m\u001b[39m\u001b[33;03m\"\"\"Check the return value of C API call\u001b[39;00m\n\u001b[32m    300\u001b[39m \n\u001b[32m    301\u001b[39m \u001b[33;03mThis function will raise exception when error occurs.\u001b[39;00m\n\u001b[32m   (...)\u001b[39m\u001b[32m    307\u001b[39m \u001b[33;03m    return value from API calls\u001b[39;00m\n\u001b[32m    308\u001b[39m \u001b[33;03m\"\"\"\u001b[39;00m\n\u001b[32m    309\u001b[39m \u001b[38;5;28;01mif\u001b[39;00m ret != \u001b[32m0\u001b[39m:\n\u001b[32m--> \u001b[39m\u001b[32m310\u001b[39m     \u001b[38;5;28;01mraise\u001b[39;00m XGBoostError(py_str(_LIB.XGBGetLastError()))\n",
      "\u001b[31mXGBoostError\u001b[39m: [15:13:05] /workspace/src/objective/objective.cc:28: Unknown objective function: `reg:squared_error`\nObjective candidate: rank:ndcg\nObjective candidate: rank:pairwise\nObjective candidate: rank:map\nObjective candidate: survival:aft\nObjective candidate: binary:hinge\nObjective candidate: multi:softmax\nObjective candidate: multi:softprob\nObjective candidate: reg:quantileerror\nObjective candidate: reg:squarederror\nObjective candidate: reg:squaredlogerror\nObjective candidate: reg:logistic\nObjective candidate: binary:logistic\nObjective candidate: binary:logitraw\nObjective candidate: reg:gamma\nObjective candidate: reg:linear\nObjective candidate: reg:pseudohubererror\nObjective candidate: count:poisson\nObjective candidate: survival:cox\nObjective candidate: reg:tweedie\nObjective candidate: reg:absoluteerror\n\nStack trace:\n  [bt] (0) /workspaces/mlops-zoomcamp/venv/lib/python3.12/site-packages/xgboost/lib/libxgboost.so(+0x2a6acc) [0x7c2daeca6acc]\n  [bt] (1) /workspaces/mlops-zoomcamp/venv/lib/python3.12/site-packages/xgboost/lib/libxgboost.so(+0x8530ae) [0x7c2daf2530ae]\n  [bt] (2) /workspaces/mlops-zoomcamp/venv/lib/python3.12/site-packages/xgboost/lib/libxgboost.so(+0x67c561) [0x7c2daf07c561]\n  [bt] (3) /workspaces/mlops-zoomcamp/venv/lib/python3.12/site-packages/xgboost/lib/libxgboost.so(+0x6875cb) [0x7c2daf0875cb]\n  [bt] (4) /workspaces/mlops-zoomcamp/venv/lib/python3.12/site-packages/xgboost/lib/libxgboost.so(XGBoosterBoostedRounds+0x34) [0x7c2daebb41a4]\n  [bt] (5) /lib/x86_64-linux-gnu/libffi.so.7(+0x6ff5) [0x7c2e0a4a4ff5]\n  [bt] (6) /lib/x86_64-linux-gnu/libffi.so.7(+0x640a) [0x7c2e0a4a440a]\n  [bt] (7) /home/codespace/.python/current/lib/python3.12/lib-dynload/_ctypes.cpython-312-x86_64-linux-gnu.so(+0x13a46) [0x7c2e0a4c7a46]\n  [bt] (8) /home/codespace/.python/current/lib/python3.12/lib-dynload/_ctypes.cpython-312-x86_64-linux-gnu.so(+0xd0ca) [0x7c2e0a4c10ca]\n\n"
     ]
    }
   ],
   "source": [
    "best_result = fmin(\n",
    "    fn=objective,\n",
    "    space=search_space,\n",
    "    algo=tpe.suggest,\n",
    "    max_evals=50,\n",
    "    trials=Trials()\n",
    ")"
   ]
  },
  {
   "cell_type": "markdown",
   "id": "71988cb3-d340-4736-b329-fb78ee8ae32f",
   "metadata": {},
   "source": [
    "Riege not better as well."
   ]
  },
  {
   "cell_type": "code",
   "execution_count": null,
   "id": "b3369599-63fe-47e7-9690-d562a3f7b1da",
   "metadata": {},
   "outputs": [],
   "source": []
  }
 ],
 "metadata": {
  "kernelspec": {
   "display_name": "venv",
   "language": "python",
   "name": "python3"
  },
  "language_info": {
   "codemirror_mode": {
    "name": "ipython",
    "version": 3
   },
   "file_extension": ".py",
   "mimetype": "text/x-python",
   "name": "python",
   "nbconvert_exporter": "python",
   "pygments_lexer": "ipython3",
   "version": "3.12.1"
  }
 },
 "nbformat": 4,
 "nbformat_minor": 5
}
